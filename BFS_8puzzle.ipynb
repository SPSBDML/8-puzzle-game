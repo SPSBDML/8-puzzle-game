{
  "nbformat": 4,
  "nbformat_minor": 0,
  "metadata": {
    "colab": {
      "name": "BFS_8puzzle.ipynb",
      "provenance": []
    },
    "kernelspec": {
      "name": "python3",
      "display_name": "Python 3"
    },
    "language_info": {
      "name": "python"
    }
  },
  "cells": [
    {
      "cell_type": "code",
      "execution_count": null,
      "metadata": {
        "id": "Js3FbThOpei3"
      },
      "outputs": [],
      "source": [
        "class Node:\n",
        "  def __init__(self, s, p, o, d):\n",
        "    self.state = s\n",
        "    self.parent = p\n",
        "    self.operation = o\n",
        "    self.depth = d\n",
        "\n",
        "def go_up(board):\n",
        " tmp = board[:]\n",
        " index = tmp.index(0)\n",
        " if index not in [0, 1, 2]:\n",
        "    tmp[index], tmp[index - 3] = tmp[index - 3], tmp[index]\n",
        "    return tmp\n",
        " else:\n",
        "    return None\n",
        "\n",
        "\n",
        "def go_down(board):\n",
        " tmp = board[:]\n",
        " index = tmp.index(0)\n",
        " if index in [6, 7, 8]:\n",
        "   return None\n",
        " else:\n",
        "    tmp[index], tmp[index + 3] = tmp[index + 3], tmp[index]\n",
        "    return tmp\n",
        "\n",
        "\n",
        "\n",
        "def go_left(board):\n",
        " tmp = board[:]\n",
        " index = tmp.index(0)\n",
        " if index in [0, 3, 6]:\n",
        "    return None\n",
        " else:\n",
        "    tmp[index], tmp[index - 1] = tmp[index - 1], tmp[index]\n",
        "    return tmp\n",
        "\n",
        "\n",
        "def go_right(board):\n",
        " tmp = board[:]\n",
        " index = tmp.index(0)\n",
        " if index in [2, 5, 8]:\n",
        "    return None\n",
        " else:\n",
        "    tmp[index], tmp[index + 1] = tmp[index + 1], tmp[index]\n",
        "    return tmp\n",
        "\n",
        "\n",
        "def display_steps(node):\n",
        "  steps = \"\"\n",
        "  curr = node\n",
        "  while True: \n",
        "    if curr.depth == 0: \n",
        "      return steps\n",
        "    steps =  curr.operation + \" \" + steps\n",
        "    curr = curr.parent\n",
        "\n",
        "\n",
        "def explore_children(node):\n",
        " # TODO: Helper function to use in BFS function that, returns all of the expanded children of a given node. \n",
        " # I.E. all of the possible actions for a node \n",
        " children = []\n",
        " # YOUR CODE HERE \n",
        " pass\n",
        "     \n",
        "\n",
        "\n",
        "def BFS(start, goal):\n",
        " # TODO: Implement the BFS Algorithm. Input is a start and end goal state, output is a node that passes the goal test\n",
        " frontier = []\n",
        " visited = []\n",
        " # YOUR CODE HERE \n",
        " pass \n",
        "\n",
        "\n",
        "def solve_puzzle(initial_state):\n",
        "  goal_state = [1,2,3,4,5,6,7,8,0]\n",
        "  goal_node = BFS(initial_state, goal_state)\n",
        "  steps = display_steps(goal_node)\n",
        "  print(\"Solution Found, Path =\", steps)\n",
        "\n",
        "\n",
        "\n",
        "solve_puzzle([1,8,0,4,3,2,5,7,6])\n",
        "\n",
        "\n"
      ]
    },
    {
      "cell_type": "code",
      "source": [
        ""
      ],
      "metadata": {
        "id": "67bPZgaTp6nx"
      },
      "execution_count": null,
      "outputs": []
    }
  ]
}